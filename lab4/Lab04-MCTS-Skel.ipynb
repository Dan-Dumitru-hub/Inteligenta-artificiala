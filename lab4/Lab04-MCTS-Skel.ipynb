{
 "cells": [
  {
   "cell_type": "markdown",
   "metadata": {},
   "source": [
    "# Algoritmi MCTS. Aplicație: Connect Four\n",
    " - Tudor Berariu\n",
    " - Andrei Olaru"
   ]
  },
  {
   "cell_type": "markdown",
   "metadata": {},
   "source": [
    "## Scopul laboratorului\n",
    "\n",
    "Scopul acestui laborator este acela de a implementa un algoritm din familia **MCTS** _(Monte Carlo Tree Search),_ și anume **UCT** _(Upper Confidence Bound for Trees)._\n",
    "\n",
    "Pentru a testa algoritmul vom folosi jocul _Connect Four_.\n",
    "\n",
    "Prima parte a laboratorului construiește funcțiile necesare desfășurarea jocului _Connect Four,_ iar cea de-a doua parte urmărește implementarea pas cu pas a algoritmului **UCT**.\n",
    "\n",
    "#### Resurse\n",
    "\n",
    "https://en.wikipedia.org/wiki/Monte_Carlo_tree_search\n",
    "\n",
    "[Curs 3 IA, Slides 20-30](http://cs.curs.pub.ro/2016/mod/resource/view.php?id=2484)"
   ]
  },
  {
   "cell_type": "markdown",
   "metadata": {},
   "source": [
    "## Jocul _Connect Four_\n",
    "\n",
    "### Descrierea jocului\n",
    "\n",
    "Jocul _Connect Four_ lucrează cu o matrice verticală de **înălțime 6** și **lățime 7** în care doi jucători dau drumul unor jetoane de culori diferite (un jucător are jetoane roșii, iar celălalt albastre). La fiecare mutare, un jucător alege o coloană din cele 7 și dă drumul jetonului. Acesta _cade_, așezându-se pe prima poziție liberă din acea coloană. Într-o coloană nu se pot așeza mai mult de șase jetoane. Câștigă acel jucător care reușește să așeze *patru* dintre jetoanele lui (de aceeași culoare) într-o linie pe orizontală, verticală sau diagonală.\n",
    "\n",
    "### Reprezentarea stărilor\n",
    "\n",
    "Starea jocului va fi reprezentată printr-un tuplu format din două elemente:\n",
    " - o listă ce va conține 7 liste corespunzătoare celor 7 coloane\n",
    "   + fiecare listă va avea lungimea 6 și va conține 0 (poziție liberă), 1 (jeton roșu) și 2 (jeton albastru)\n",
    "   + poziția 0 din listă corespunde rândului cel mai de jos\n",
    " - indicatorul jucătorului ce trebuie să _mute_: 1 pentru roșu, 2 pentru jucătorul albastru."
   ]
  },
  {
   "cell_type": "code",
   "execution_count": 236,
   "metadata": {},
   "outputs": [
    {
     "name": "stdout",
     "output_type": "stream",
     "text": [
      "Starea inițială:\n",
      "|       |\n",
      "|       |\n",
      "|       |\n",
      "|       |\n",
      "|       |\n",
      "|       |\n",
      "+-------+\n",
      "Urmează: 1 - ROȘU\n"
     ]
    }
   ],
   "source": [
    "# Dimensiunile matricei\n",
    "HEIGHT, WIDTH = 6, 7\n",
    "\n",
    "# Pozițiile din tuplul ce constituie o stare\n",
    "BOARD, NEXT_PLAYER = 0, 1\n",
    "\n",
    "# Jucătorii\n",
    "RED, BLUE = 1, 2\n",
    "name = [\"\", \"ROȘU\", \"ALBASTRU\", \"REMIZĂ\"]\n",
    "\n",
    "# Funcție ce întoarce o stare inițială\n",
    "def init_state():\n",
    "    return ([[0 for row in range(HEIGHT)] for col in range(WIDTH)], RED)\n",
    "\n",
    "# Funcție ce afișează o stare\n",
    "def print_state(state):\n",
    "    for row in range(HEIGHT-1, -1, -1):\n",
    "        ch = \" RA\"\n",
    "        l = map(lambda col: ch[state[BOARD][col][row]], range(WIDTH))\n",
    "        print(\"|\" + \"\".join(l) + \"|\")\n",
    "    print(\"+\" + \"\".join(\"-\" * WIDTH) + \"+\")\n",
    "    print(\"Urmează: %d - %s\" % (state[NEXT_PLAYER], name[state[NEXT_PLAYER]]))\n",
    "\n",
    "\n",
    "# Functie ce intoarce adversarul jucatorului curent\n",
    "def get_opponent(player):\n",
    "    return 3 - player    \n",
    "\n",
    "# Se afișează starea inițială a jocului\n",
    "print(\"Starea inițială:\")\n",
    "print_state(init_state())"
   ]
  },
  {
   "cell_type": "markdown",
   "metadata": {},
   "source": [
    "### Mutările\n",
    "\n",
    "Cum toată informația necesară pentru a descrie o mutare este dată de coloana în care un jucător a ales să își așeze jetonul, o acțiune va fi reprezentată simplu printr-un număr.\n",
    "\n",
    "**Cerința 1:** Completați funcția `get_available_actions(state)` care primește o stare și întoarce acțiunile corecte (o listă cu acele coloane care nu sunt _pline_).\n",
    "\n",
    "Funcția `apply_action(state, action)` este deja implementată (întoarce o stare nouă, nu o modifică pe cea dată ca argument)."
   ]
  },
  {
   "cell_type": "code",
   "execution_count": 237,
   "metadata": {},
   "outputs": [
    {
     "name": "stdout",
     "output_type": "stream",
     "text": [
      "|   A   |\n",
      "|   R   |\n",
      "|   A   |\n",
      "|   R   |\n",
      "|  RR   |\n",
      "|  ARA A|\n",
      "+-------+\n",
      "Urmează: 1 - ROȘU\n"
     ]
    },
    {
     "data": {
      "text/plain": [
       "[0, 1, 2, 4, 5, 6]"
      ]
     },
     "execution_count": 237,
     "metadata": {},
     "output_type": "execute_result"
    }
   ],
   "source": [
    "# Funcție ce întoarce acțiunile valide dintr-o stare dată\n",
    "def get_available_actions(state):\n",
    "    l=[]\n",
    "    j=0\n",
    "    #print(state)\n",
    "    for i in state[0]:\n",
    "        #print(i)\n",
    "        if 0 in i:\n",
    "            l.append(j)\n",
    "        j=j+1\n",
    "\n",
    "    return l# TODO\n",
    "\n",
    "\n",
    "from copy import deepcopy\n",
    "from functools import reduce\n",
    "\n",
    "# Funcție ce întoarce starea în care se ajunge prin aplicarea unei acțiuni\n",
    "def apply_action(state, action):\n",
    "    if action >= len(state[BOARD]) or 0 not in state[BOARD][action]:\n",
    "        print(\"Action \" + str(action) + \" is not valid.\")\n",
    "        return None\n",
    "    new_board = deepcopy(state[BOARD])\n",
    "    new_board[action][new_board[action].index(0,0)] = state[NEXT_PLAYER]\n",
    "    return (new_board, 3 - state[NEXT_PLAYER])\n",
    "\n",
    "\n",
    "# Se afișează starea la care se ajunge prin aplicarea unor acțiuni\n",
    "somestate = reduce(apply_action, [3, 4, 3, 2, 2, 6, 3, 3, 3, 3], init_state())\n",
    "print_state(somestate)\n",
    "get_available_actions(somestate)"
   ]
  },
  {
   "cell_type": "markdown",
   "metadata": {},
   "source": [
    "### Stările finale\n",
    "\n",
    "Pentru a verifica dacă o stare este finală:\n",
    " - se verifică dacă ultimul jucător care a mutat a câștigat\n",
    " - sau dacă matricea este _plină_\n",
    " \n",
    "Scriem o funcție `is_final(state)` care va întoarce:\n",
    " - `False` dacă starea nu este finală,\n",
    " - `1` dacă a câștigat Roșu,\n",
    " - `2` dacă a câștigat Albastru și\n",
    " - `3` dacă este remiză.\n",
    "\n",
    "Funcția este deja implementată mai jos."
   ]
  },
  {
   "cell_type": "code",
   "execution_count": 238,
   "metadata": {
    "collapsed": true
   },
   "outputs": [],
   "source": [
    "# Funcție ce verifică dacă o stare este finală\n",
    "def is_final(state):\n",
    "    # Verificăm dacă matricea este plină\n",
    "    if not any([0 in col for col in state[BOARD]]): return 3\n",
    "    # Jucătorul care doar ce a mutat ar putea să fie câștigător\n",
    "    player = 3 - state[NEXT_PLAYER]\n",
    "    \n",
    "    ok = lambda pos: all([state[BOARD][c][r] == player for (r, c) in pos])\n",
    "    # Verificăm orizontale\n",
    "    for row in range(HEIGHT):\n",
    "        for col in range(WIDTH - 4):\n",
    "            if ok([(row, col + i) for i in range(4)]): return player\n",
    "    # Verificăm verticale\n",
    "    for col in range(WIDTH):\n",
    "        for row in range(HEIGHT - 4):\n",
    "            if ok([(row + i, col) for i in range(4)]): return player\n",
    "    # Verificăm diagonale\n",
    "    for col in range(WIDTH - 4):\n",
    "        for row in range(HEIGHT - 4):\n",
    "            if ok([(row + i, col + i) for i in range(4)]): return player\n",
    "    for col in range(WIDTH-4):\n",
    "        for row in range(HEIGHT-4):\n",
    "            if ok([(row + i, col + 4 - i) for i in range(4)]): return player\n",
    "    return False"
   ]
  },
  {
   "cell_type": "code",
   "execution_count": 239,
   "metadata": {},
   "outputs": [
    {
     "name": "stdout",
     "output_type": "stream",
     "text": [
      "|       |\n",
      "|   A   |\n",
      "|   R   |\n",
      "| RRAA  |\n",
      "| RARA  |\n",
      "|RARRA  |\n",
      "+-------+\n",
      "Urmează: 2 - ALBASTRU\n",
      "Învingător: ROȘU\n"
     ]
    }
   ],
   "source": [
    "# Afișăm o stare finală oarecare\n",
    "from random import choice\n",
    "\n",
    "rand_state = init_state()\n",
    "while not is_final(rand_state):\n",
    "    actions = get_available_actions(rand_state)\n",
    "    if not actions:\n",
    "        break\n",
    "    action = choice(get_available_actions(rand_state))\n",
    "    rand_state = apply_action(rand_state, action)\n",
    "\n",
    "print_state(rand_state)\n",
    "print(\"Învingător: %s\" % (name[is_final(rand_state)]))"
   ]
  },
  {
   "cell_type": "code",
   "execution_count": 240,
   "metadata": {},
   "outputs": [
    {
     "name": "stdout",
     "output_type": "stream",
     "text": [
      "|       |\n",
      "|       |\n",
      "|       |\n",
      "| R     |\n",
      "| RR    |\n",
      "| RAAAA |\n",
      "+-------+\n",
      "Urmează: 1 - ROȘU\n",
      "Învingător: ALBASTRU\n"
     ]
    }
   ],
   "source": [
    "# Exemplu: Se afișează starea obținută prin aplicarea unor acțiuni\n",
    "all_actions = [1, 2, 1, 3, 1, 4, 2, 5]\n",
    "some_state = reduce(apply_action, all_actions, init_state())\n",
    "print_state(some_state)\n",
    "print(\"Învingător: %s\" % (name[is_final(some_state)]))"
   ]
  },
  {
   "cell_type": "markdown",
   "metadata": {},
   "source": [
    "## Algoritmul UCT\n",
    "\n",
    "Algoritmii din familia MCTS conțin patru etape importante:\n",
    " - **selecție** - o strategie de alegere a unei acțiuni pentru a exploata\n",
    " - **extindere** - construirea unui nod nou în arbore\n",
    " - **simulare** - desfășurarea unui joc în mod aleator către o stare finală\n",
    " - **propagare înapoi** - actualizarea statisticilor pentru toate nodurile\n",
    "\n",
    "\n",
    "### Reprezentarea unui nod\n",
    "\n",
    "Un nod din arborele de stări va fi un dicționar ce conține:\n",
    " - numărul de vizitări `N` -- de câte ori s-au realizat simulări din acel nod sau dintr-un descendent al său.\n",
    " - valoarea estimată `Q` -- o indicație a calității nodului, bazat pe numărul jocurilor câștigate pornind din acel nod.\n",
    " - o referință către nodul părinte\n",
    " - lista copiilor -- un dicționar ce conține pentru fiecare acțiune o legătură către nodul următor\n",
    "\n",
    "Exemplu de nod corespunzător unei stări.\n",
    "\n",
    "    {'N': 7, 'Q': 2.5, 'parent': None, 'actions': {0: {'N': 3, ...}, 1: {'N': 4, ...}}}\n",
    "    \n",
    "### Desfășurarea algoritmului\n",
    "\n",
    "1. Dacă algoritmul pornește cu un arbore gol (fără memorie), atunci se construiește un nod nou.\n",
    "   Altfel se alege subarborele corespunzător ultimei acțiuni a adversarului. (`TODO3`)\n",
    "\n",
    "2. Până când se atinge limita bugetului de calcul:\n",
    "  1. pornind din rădăcină, se alege succesiv un nod următor până când se atinge o stare finală sau un nod din care nu s-au explorat toate acțiunile posibile (`TODO2` și `TODO4`)\n",
    "  2. pentru un nod care nu este final și din care nu s-au explorat toate acțiunile, se construiește un nod-copil pentru una dintre acțiunile neexplorate\n",
    "  3. se simulează un joc pornind din nodul nou până într-o stare finală (`TODO5`)\n",
    "  4. se evaluează starea finală și se calculează o recompensă (`TODO6`)\n",
    "  5. se propagă înapoi acea recompensă, actualizându-se și statisticile (numărul de vizite) pentru fiecare nod până la rădăcină (`TODO7`)"
   ]
  },
  {
   "cell_type": "code",
   "execution_count": 241,
   "metadata": {
    "collapsed": true
   },
   "outputs": [],
   "source": [
    "# Constante\n",
    "\n",
    "N = 'N'\n",
    "Q = 'Q'\n",
    "PARENT = 'parent'\n",
    "ACTIONS = 'actions'\n",
    "PLAYER = 'player'"
   ]
  },
  {
   "cell_type": "markdown",
   "metadata": {},
   "source": [
    "### Afișarea unui arbore"
   ]
  },
  {
   "cell_type": "code",
   "execution_count": 242,
   "metadata": {
    "collapsed": true
   },
   "outputs": [],
   "source": [
    "def print_tree(tree, indent = 0):\n",
    "    if not tree:\n",
    "        return\n",
    "    tab = \"\".join(\" \" * indent)\n",
    "    print(\"%sN = %d, Q = %f, P=%i\" % (tab, tree[N], tree[Q], tree[PLAYER]))\n",
    "    for a in tree[ACTIONS]:\n",
    "        print(\"%s %d ==> \" % (tab, a))\n",
    "        print_tree(tree[ACTIONS][a], indent + 3)\n",
    "        \n",
    "# def number_of_nodes(tree):\n",
    "#     if not tree:\n",
    "#         return 0\n",
    "#     no = 1\n",
    "#     for child in tree[ACTIONS].values():\n",
    "#         no += number_of_nodes(child)\n",
    "#     return no"
   ]
  },
  {
   "cell_type": "markdown",
   "metadata": {},
   "source": [
    "### Algoritm"
   ]
  },
  {
   "cell_type": "code",
   "execution_count": 243,
   "metadata": {
    "collapsed": true
   },
   "outputs": [],
   "source": [
    "# Funcție ce întoarce un nod nou,\n",
    "# eventual copilul unui nod dat ca argument\n",
    "def init_node(parent = None, player = RED):\n",
    "    return {N: 0, Q: 0, PARENT: parent, PLAYER: player, ACTIONS: {}}"
   ]
  },
  {
   "cell_type": "code",
   "execution_count": 244,
   "metadata": {},
   "outputs": [
    {
     "name": "stdout",
     "output_type": "stream",
     "text": [
      "5\n",
      "3\n"
     ]
    }
   ],
   "source": [
    "from math import sqrt, log\n",
    "\n",
    "CP = 1.0 / sqrt(2.0)\n",
    "\n",
    "# Funcție ce alege o acțiune dintr-un nod\n",
    "def select_action(node, c = CP):\n",
    "    N_node = node[N]\n",
    "    max=0\n",
    "    action=node[ACTIONS]\n",
    "    #print(node[ACTIONS])\n",
    "    for i in node[ACTIONS]:\n",
    "        #print(node[ACTIONS][i][N])\n",
    "        if max < node[ACTIONS][i][Q] / node[ACTIONS][i][N] + c*sqrt(2 * log(N_node) / node[ACTIONS][i][N]):\n",
    "            max = node[ACTIONS][i][Q] / node[ACTIONS][i][N] + c*sqrt(2 * log(N_node) / node[ACTIONS][i][N])\n",
    "            action=i\n",
    "\n",
    "    # TODO <2>\n",
    "    # Se caută acțiunea a care maximizează expresia:\n",
    "    # Q_a / N_a  +  c * sqrt(2 * log(N_node) / N_a)\n",
    "\n",
    "    \n",
    "    return action # TODO\n",
    "\n",
    "# Scurtă testare\n",
    "test_root = {N: 6, Q: 0.75, PARENT: None, ACTIONS: {}}\n",
    "test_root[ACTIONS][3] = {N: 4, Q: 0.9, PARENT: test_root, ACTIONS: {}}\n",
    "test_root[ACTIONS][5] = {N: 2, Q: 0.1, PARENT: test_root, ACTIONS: {}}\n",
    "\n",
    "print(select_action(test_root, CP))  # ==> 5 (0.8942 < 0.9965)\n",
    "print(select_action(test_root, 0.3)) # ==> 3 (0.50895 > 0.45157)"
   ]
  },
  {
   "cell_type": "code",
   "execution_count": 245,
   "metadata": {
    "collapsed": true
   },
   "outputs": [],
   "source": [
    "# Algoritmul MCTS (UCT)\n",
    "#  state0 - starea pentru care trebuie aleasă o acțiune\n",
    "#  budget - numărul de iterații permis\n",
    "#  tree - un arbore din explorările anterioare\n",
    "#  opponent_s_action - ultima acțiune a adversarului\n",
    "\n",
    "def mcts(state0, budget, tree, opponent_s_action = None):\n",
    "    # TODO <3>\n",
    "    # DACĂ există un arbore construit anterior ȘI\n",
    "    #   acesta are un copil ce corespunde ultimei acțiuni a adversarului,\n",
    "    # ATUNCI acel copil va deveni nodul de început pentru algoritm.\n",
    "    # ALTFEL, arborele de start este un nod gol, corespunzator adversarului (eu sunt la mutare si urmeaza\n",
    "    # sa creez un nod copil al nodului radacina).\n",
    "\n",
    "    \n",
    "    #tree = None \n",
    "    # TODO\n",
    "    if tree and opponent_s_action in tree[ACTIONS]:\n",
    "        tree = tree[ACTIONS][opponent_s_action]\n",
    "    else:\n",
    "        tree = init_node()\n",
    "\n",
    "    \n",
    "    #---------------------------------------------------------------\n",
    "\n",
    "    for x in range(budget):\n",
    "        # Punctul de start al simulării va fi rădăcina de start\n",
    "        state = state0\n",
    "        node = tree\n",
    "        ok=1\n",
    "        while ok==1:\n",
    "\n",
    "            if  is_final(state):\n",
    "                ok=0\n",
    "                break\n",
    "            if set(get_available_actions(state)).issubset(node[ACTIONS]) :\n",
    "                \n",
    "                ok=0\n",
    "                break\n",
    "            \n",
    "            action1=select_action(node)\n",
    "            state=apply_action(state,action1)\n",
    "            node=node[ACTIONS][action1]\n",
    "\n",
    "        # TODO <4>\n",
    "        # Coborâm în arbore până când ajungem la o stare finală\n",
    "        # sau la un nod cu acțiuni neexplorate.\n",
    "        # Variabilele state și node se 'mută' împreună.\n",
    "\n",
    "\n",
    "        state = state # TODO\n",
    "        node = node # TODO\n",
    "        \n",
    "        #---------------------------------------------------------------\n",
    "        \n",
    "        # TODO <5>\n",
    "        # Dacă am ajuns într-un nod care nu este final și din care nu s-au\n",
    "        # `încercat` toate acțiunile, construim un nod nou.\n",
    "        if not is_final(state):\n",
    "            action1=get_available_actions(state)\n",
    "            ales=choice(action1)\n",
    "            state = apply_action(state,ales) # TODO\n",
    "            node[PARENT][ACTIONS][action1] = node # TODO  \n",
    "        #---------------------------------------------------------------\n",
    "        \n",
    "        # TODO <6>\n",
    "        # Se simulează o desfășurare a jocului până la ajungerea într-o\n",
    "        # starea finală. Se evaluează recompensa în acea stare.\n",
    "        while not is_final(state):\n",
    "            state= apply_action(state , choice(get_available_actions(state)))\n",
    "        \n",
    "        winner = is_final(state)\n",
    "        if winner == state0[NEXT_PLAYER]:\n",
    "            reward = 1\n",
    "        elif winner == (3 - state0[NEXT_PLAYER]):\n",
    "            reward = 0.0\n",
    "        elif winner == 3:\n",
    "            reward = 0.5\n",
    "        else:\n",
    "            reward = 0.25\n",
    "        #---------------------------------------------------------------\n",
    "\n",
    "        # TODO <7>\n",
    "        # Se actualizează toate nodurile de la node către rădăcină:\n",
    "        #  - se incrementează valoarea N din fiecare nod\n",
    "        #  - se adaugă recompensa la valoarea Q\n",
    "        for i in node:\n",
    "            node[ACTIONS][i][N] +=1\n",
    "            node[ACTIONS][i][Q] +=reward\n",
    "            \n",
    "        # TODO\n",
    "        \n",
    "        #---------------------------------------------------------------\n",
    "\n",
    "    if tree:\n",
    "        final_action = select_action(tree, 0.0)\n",
    "        return (final_action, tree[ACTIONS][final_action])\n",
    "    # Acest cod este aici doar ca să nu dea erori testele mai jos; în mod normal tree nu trebuie să fie None\n",
    "    if get_available_actions(state0):\n",
    "        return (get_available_actions(state0)[0], init_node())\n",
    "    return (0, None)"
   ]
  },
  {
   "cell_type": "code",
   "execution_count": 246,
   "metadata": {},
   "outputs": [
    {
     "ename": "TypeError",
     "evalue": "'>=' not supported between instances of 'dict' and 'int'",
     "output_type": "error",
     "traceback": [
      "\u001b[1;31m---------------------------------------------------------------------------\u001b[0m",
      "\u001b[1;31mTypeError\u001b[0m                                 Traceback (most recent call last)",
      "\u001b[1;32m~\\AppData\\Local\\Temp/ipykernel_18292/883035000.py\u001b[0m in \u001b[0;36m<module>\u001b[1;34m\u001b[0m\n\u001b[0;32m      1\u001b[0m \u001b[1;31m# Testare MCTS\u001b[0m\u001b[1;33m\u001b[0m\u001b[1;33m\u001b[0m\u001b[0m\n\u001b[1;32m----> 2\u001b[1;33m \u001b[1;33m(\u001b[0m\u001b[0maction\u001b[0m\u001b[1;33m,\u001b[0m \u001b[0mtree\u001b[0m\u001b[1;33m)\u001b[0m \u001b[1;33m=\u001b[0m \u001b[0mmcts\u001b[0m\u001b[1;33m(\u001b[0m\u001b[0minit_state\u001b[0m\u001b[1;33m(\u001b[0m\u001b[1;33m)\u001b[0m\u001b[1;33m,\u001b[0m \u001b[1;36m20\u001b[0m\u001b[1;33m,\u001b[0m \u001b[1;32mNone\u001b[0m\u001b[1;33m,\u001b[0m \u001b[1;32mNone\u001b[0m\u001b[1;33m)\u001b[0m\u001b[1;33m\u001b[0m\u001b[1;33m\u001b[0m\u001b[0m\n\u001b[0m\u001b[0;32m      3\u001b[0m \u001b[0mprint\u001b[0m\u001b[1;33m(\u001b[0m\u001b[0maction\u001b[0m\u001b[1;33m)\u001b[0m\u001b[1;33m\u001b[0m\u001b[1;33m\u001b[0m\u001b[0m\n\u001b[0;32m      4\u001b[0m \u001b[1;32mif\u001b[0m \u001b[0mtree\u001b[0m\u001b[1;33m:\u001b[0m \u001b[0mprint_tree\u001b[0m\u001b[1;33m(\u001b[0m\u001b[0mtree\u001b[0m\u001b[1;33m[\u001b[0m\u001b[0mPARENT\u001b[0m\u001b[1;33m]\u001b[0m\u001b[1;33m)\u001b[0m\u001b[1;33m\u001b[0m\u001b[1;33m\u001b[0m\u001b[0m\n",
      "\u001b[1;32m~\\AppData\\Local\\Temp/ipykernel_18292/2662635851.py\u001b[0m in \u001b[0;36mmcts\u001b[1;34m(state0, budget, tree, opponent_s_action)\u001b[0m\n\u001b[0;32m     40\u001b[0m \u001b[1;33m\u001b[0m\u001b[0m\n\u001b[0;32m     41\u001b[0m             \u001b[0maction1\u001b[0m\u001b[1;33m=\u001b[0m\u001b[0mselect_action\u001b[0m\u001b[1;33m(\u001b[0m\u001b[0mnode\u001b[0m\u001b[1;33m)\u001b[0m\u001b[1;33m\u001b[0m\u001b[1;33m\u001b[0m\u001b[0m\n\u001b[1;32m---> 42\u001b[1;33m             \u001b[0mstate\u001b[0m\u001b[1;33m=\u001b[0m\u001b[0mapply_action\u001b[0m\u001b[1;33m(\u001b[0m\u001b[0mstate\u001b[0m\u001b[1;33m,\u001b[0m\u001b[0maction1\u001b[0m\u001b[1;33m)\u001b[0m\u001b[1;33m\u001b[0m\u001b[1;33m\u001b[0m\u001b[0m\n\u001b[0m\u001b[0;32m     43\u001b[0m             \u001b[0mnode\u001b[0m\u001b[1;33m=\u001b[0m\u001b[0mnode\u001b[0m\u001b[1;33m[\u001b[0m\u001b[0mACTIONS\u001b[0m\u001b[1;33m]\u001b[0m\u001b[1;33m[\u001b[0m\u001b[0maction1\u001b[0m\u001b[1;33m]\u001b[0m\u001b[1;33m\u001b[0m\u001b[1;33m\u001b[0m\u001b[0m\n\u001b[0;32m     44\u001b[0m \u001b[1;33m\u001b[0m\u001b[0m\n",
      "\u001b[1;32m~\\AppData\\Local\\Temp/ipykernel_18292/3912907612.py\u001b[0m in \u001b[0;36mapply_action\u001b[1;34m(state, action)\u001b[0m\n\u001b[0;32m     18\u001b[0m \u001b[1;31m# Funcție ce întoarce starea în care se ajunge prin aplicarea unei acțiuni\u001b[0m\u001b[1;33m\u001b[0m\u001b[1;33m\u001b[0m\u001b[0m\n\u001b[0;32m     19\u001b[0m \u001b[1;32mdef\u001b[0m \u001b[0mapply_action\u001b[0m\u001b[1;33m(\u001b[0m\u001b[0mstate\u001b[0m\u001b[1;33m,\u001b[0m \u001b[0maction\u001b[0m\u001b[1;33m)\u001b[0m\u001b[1;33m:\u001b[0m\u001b[1;33m\u001b[0m\u001b[1;33m\u001b[0m\u001b[0m\n\u001b[1;32m---> 20\u001b[1;33m     \u001b[1;32mif\u001b[0m \u001b[0maction\u001b[0m \u001b[1;33m>=\u001b[0m \u001b[0mlen\u001b[0m\u001b[1;33m(\u001b[0m\u001b[0mstate\u001b[0m\u001b[1;33m[\u001b[0m\u001b[0mBOARD\u001b[0m\u001b[1;33m]\u001b[0m\u001b[1;33m)\u001b[0m \u001b[1;32mor\u001b[0m \u001b[1;36m0\u001b[0m \u001b[1;32mnot\u001b[0m \u001b[1;32min\u001b[0m \u001b[0mstate\u001b[0m\u001b[1;33m[\u001b[0m\u001b[0mBOARD\u001b[0m\u001b[1;33m]\u001b[0m\u001b[1;33m[\u001b[0m\u001b[0maction\u001b[0m\u001b[1;33m]\u001b[0m\u001b[1;33m:\u001b[0m\u001b[1;33m\u001b[0m\u001b[1;33m\u001b[0m\u001b[0m\n\u001b[0m\u001b[0;32m     21\u001b[0m         \u001b[0mprint\u001b[0m\u001b[1;33m(\u001b[0m\u001b[1;34m\"Action \"\u001b[0m \u001b[1;33m+\u001b[0m \u001b[0mstr\u001b[0m\u001b[1;33m(\u001b[0m\u001b[0maction\u001b[0m\u001b[1;33m)\u001b[0m \u001b[1;33m+\u001b[0m \u001b[1;34m\" is not valid.\"\u001b[0m\u001b[1;33m)\u001b[0m\u001b[1;33m\u001b[0m\u001b[1;33m\u001b[0m\u001b[0m\n\u001b[0;32m     22\u001b[0m         \u001b[1;32mreturn\u001b[0m \u001b[1;32mNone\u001b[0m\u001b[1;33m\u001b[0m\u001b[1;33m\u001b[0m\u001b[0m\n",
      "\u001b[1;31mTypeError\u001b[0m: '>=' not supported between instances of 'dict' and 'int'"
     ]
    }
   ],
   "source": [
    "# Testare MCTS\n",
    "(action, tree) = mcts(init_state(), 20, None, None)\n",
    "print(action)\n",
    "if tree: print_tree(tree[PARENT])"
   ]
  },
  {
   "cell_type": "markdown",
   "metadata": {},
   "source": [
    "## Evaluarea algoritmului\n",
    "\n",
    "Funcția de mai jos opune doi jucători ce folosesc algoritmul UCT pentru a decide asupra acțiunii dintr-o stare."
   ]
  },
  {
   "cell_type": "code",
   "execution_count": null,
   "metadata": {
    "collapsed": true
   },
   "outputs": [],
   "source": [
    "def play_games(games_no, budget1, budget2, verbose = False):\n",
    "    # Efortul de căutare al jucătorilor\n",
    "    budget = [budget1, budget2]\n",
    "    \n",
    "    score = {p: 0 for p in name}\n",
    "        \n",
    "    for i in range(games_no):\n",
    "        # Memoriile inițiale\n",
    "        memory = [None, None]\n",
    "        \n",
    "        # Se desfășoară jocul\n",
    "        state = init_state()\n",
    "        last_action = None\n",
    "    \n",
    "        while state and not is_final(state):\n",
    "            p = state[NEXT_PLAYER] - 1\n",
    "            (action, memory[p]) = mcts(state, budget[p], memory[p], last_action)\n",
    "            state = apply_action(state, action)\n",
    "            last_action = action\n",
    "        \n",
    "        # Cine a câștigat?\n",
    "        if(state):\n",
    "            winner = is_final(state)\n",
    "            score[name[winner]] += + 1\n",
    "        \n",
    "        # Afișăm\n",
    "        if verbose and state:\n",
    "            print_state(state)\n",
    "            if winner == 3: print(\"Remiză.\")\n",
    "            else: print(\"A câștigat %s\" % name[winner])\n",
    "\n",
    "    # Afișează scorul final\n",
    "    print(\"Scor final: %s.\" % (str(score)))"
   ]
  },
  {
   "cell_type": "code",
   "execution_count": null,
   "metadata": {},
   "outputs": [
    {
     "ename": "TypeError",
     "evalue": "unhashable type: 'dict'",
     "output_type": "error",
     "traceback": [
      "\u001b[1;31m---------------------------------------------------------------------------\u001b[0m",
      "\u001b[1;31mTypeError\u001b[0m                                 Traceback (most recent call last)",
      "\u001b[1;32m~\\AppData\\Local\\Temp/ipykernel_18292/3824373848.py\u001b[0m in \u001b[0;36m<module>\u001b[1;34m\u001b[0m\n\u001b[0;32m      1\u001b[0m \u001b[1;31m# play_games(N, BR, BA, VERBOSE) - rulează N jocuri, cu bugetele BR pt ROȘU și BA pt ALBASTRU\u001b[0m\u001b[1;33m\u001b[0m\u001b[1;33m\u001b[0m\u001b[0m\n\u001b[1;32m----> 2\u001b[1;33m \u001b[0mplay_games\u001b[0m\u001b[1;33m(\u001b[0m\u001b[1;36m5\u001b[0m\u001b[1;33m,\u001b[0m \u001b[1;36m2\u001b[0m\u001b[1;33m,\u001b[0m \u001b[1;36m30\u001b[0m\u001b[1;33m,\u001b[0m \u001b[1;32mTrue\u001b[0m\u001b[1;33m)\u001b[0m \u001b[1;31m# ne așteptăm să câștige ALBASTRU\u001b[0m\u001b[1;33m\u001b[0m\u001b[1;33m\u001b[0m\u001b[0m\n\u001b[0m\u001b[0;32m      3\u001b[0m \u001b[1;31m#play_games(5, 30, 2, True) # ne așteptăm să câștige ROȘU\u001b[0m\u001b[1;33m\u001b[0m\u001b[1;33m\u001b[0m\u001b[0m\n",
      "\u001b[1;32m~\\AppData\\Local\\Temp/ipykernel_18292/2114317924.py\u001b[0m in \u001b[0;36mplay_games\u001b[1;34m(games_no, budget1, budget2, verbose)\u001b[0m\n\u001b[0;32m     15\u001b[0m         \u001b[1;32mwhile\u001b[0m \u001b[0mstate\u001b[0m \u001b[1;32mand\u001b[0m \u001b[1;32mnot\u001b[0m \u001b[0mis_final\u001b[0m\u001b[1;33m(\u001b[0m\u001b[0mstate\u001b[0m\u001b[1;33m)\u001b[0m\u001b[1;33m:\u001b[0m\u001b[1;33m\u001b[0m\u001b[1;33m\u001b[0m\u001b[0m\n\u001b[0;32m     16\u001b[0m             \u001b[0mp\u001b[0m \u001b[1;33m=\u001b[0m \u001b[0mstate\u001b[0m\u001b[1;33m[\u001b[0m\u001b[0mNEXT_PLAYER\u001b[0m\u001b[1;33m]\u001b[0m \u001b[1;33m-\u001b[0m \u001b[1;36m1\u001b[0m\u001b[1;33m\u001b[0m\u001b[1;33m\u001b[0m\u001b[0m\n\u001b[1;32m---> 17\u001b[1;33m             \u001b[1;33m(\u001b[0m\u001b[0maction\u001b[0m\u001b[1;33m,\u001b[0m \u001b[0mmemory\u001b[0m\u001b[1;33m[\u001b[0m\u001b[0mp\u001b[0m\u001b[1;33m]\u001b[0m\u001b[1;33m)\u001b[0m \u001b[1;33m=\u001b[0m \u001b[0mmcts\u001b[0m\u001b[1;33m(\u001b[0m\u001b[0mstate\u001b[0m\u001b[1;33m,\u001b[0m \u001b[0mbudget\u001b[0m\u001b[1;33m[\u001b[0m\u001b[0mp\u001b[0m\u001b[1;33m]\u001b[0m\u001b[1;33m,\u001b[0m \u001b[0mmemory\u001b[0m\u001b[1;33m[\u001b[0m\u001b[0mp\u001b[0m\u001b[1;33m]\u001b[0m\u001b[1;33m,\u001b[0m \u001b[0mlast_action\u001b[0m\u001b[1;33m)\u001b[0m\u001b[1;33m\u001b[0m\u001b[1;33m\u001b[0m\u001b[0m\n\u001b[0m\u001b[0;32m     18\u001b[0m             \u001b[0mstate\u001b[0m \u001b[1;33m=\u001b[0m \u001b[0mapply_action\u001b[0m\u001b[1;33m(\u001b[0m\u001b[0mstate\u001b[0m\u001b[1;33m,\u001b[0m \u001b[0maction\u001b[0m\u001b[1;33m)\u001b[0m\u001b[1;33m\u001b[0m\u001b[1;33m\u001b[0m\u001b[0m\n\u001b[0;32m     19\u001b[0m             \u001b[0mlast_action\u001b[0m \u001b[1;33m=\u001b[0m \u001b[0maction\u001b[0m\u001b[1;33m\u001b[0m\u001b[1;33m\u001b[0m\u001b[0m\n",
      "\u001b[1;32m~\\AppData\\Local\\Temp/ipykernel_18292/3212863608.py\u001b[0m in \u001b[0;36mmcts\u001b[1;34m(state0, budget, tree, opponent_s_action)\u001b[0m\n\u001b[0;32m     89\u001b[0m     \u001b[1;32mif\u001b[0m \u001b[0mtree\u001b[0m\u001b[1;33m:\u001b[0m\u001b[1;33m\u001b[0m\u001b[1;33m\u001b[0m\u001b[0m\n\u001b[0;32m     90\u001b[0m         \u001b[0mfinal_action\u001b[0m \u001b[1;33m=\u001b[0m \u001b[0mselect_action\u001b[0m\u001b[1;33m(\u001b[0m\u001b[0mtree\u001b[0m\u001b[1;33m,\u001b[0m \u001b[1;36m0.0\u001b[0m\u001b[1;33m)\u001b[0m\u001b[1;33m\u001b[0m\u001b[1;33m\u001b[0m\u001b[0m\n\u001b[1;32m---> 91\u001b[1;33m         \u001b[1;32mreturn\u001b[0m \u001b[1;33m(\u001b[0m\u001b[0mfinal_action\u001b[0m\u001b[1;33m,\u001b[0m \u001b[0mtree\u001b[0m\u001b[1;33m[\u001b[0m\u001b[0mACTIONS\u001b[0m\u001b[1;33m]\u001b[0m\u001b[1;33m[\u001b[0m\u001b[0mfinal_action\u001b[0m\u001b[1;33m]\u001b[0m\u001b[1;33m)\u001b[0m\u001b[1;33m\u001b[0m\u001b[1;33m\u001b[0m\u001b[0m\n\u001b[0m\u001b[0;32m     92\u001b[0m     \u001b[1;31m# Acest cod este aici doar ca să nu dea erori testele mai jos; în mod normal tree nu trebuie să fie None\u001b[0m\u001b[1;33m\u001b[0m\u001b[1;33m\u001b[0m\u001b[0m\n\u001b[0;32m     93\u001b[0m     \u001b[1;32mif\u001b[0m \u001b[0mget_available_actions\u001b[0m\u001b[1;33m(\u001b[0m\u001b[0mstate0\u001b[0m\u001b[1;33m)\u001b[0m\u001b[1;33m:\u001b[0m\u001b[1;33m\u001b[0m\u001b[1;33m\u001b[0m\u001b[0m\n",
      "\u001b[1;31mTypeError\u001b[0m: unhashable type: 'dict'"
     ]
    }
   ],
   "source": [
    "# play_games(N, BR, BA, VERBOSE) - rulează N jocuri, cu bugetele BR pt ROȘU și BA pt ALBASTRU\n",
    "play_games(5, 2, 30, True) # ne așteptăm să câștige ALBASTRU\n",
    "#play_games(5, 30, 2, True) # ne așteptăm să câștige ROȘU"
   ]
  },
  {
   "cell_type": "code",
   "execution_count": null,
   "metadata": {
    "collapsed": true
   },
   "outputs": [],
   "source": []
  }
 ],
 "metadata": {
  "interpreter": {
   "hash": "473db1a4558a87a7abee061fb98a0b010f88daa9b59fee90619c7bdae75f0d0a"
  },
  "kernelspec": {
   "display_name": "Python 3.9.7 64-bit (windows store)",
   "name": "python3"
  },
  "language_info": {
   "codemirror_mode": {
    "name": "ipython",
    "version": 3
   },
   "file_extension": ".py",
   "mimetype": "text/x-python",
   "name": "python",
   "nbconvert_exporter": "python",
   "pygments_lexer": "ipython3",
   "version": "3.9.7"
  }
 },
 "nbformat": 4,
 "nbformat_minor": 1
}
